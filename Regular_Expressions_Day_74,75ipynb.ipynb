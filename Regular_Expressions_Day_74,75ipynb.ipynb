{
  "nbformat": 4,
  "nbformat_minor": 0,
  "metadata": {
    "colab": {
      "provenance": [],
      "authorship_tag": "ABX9TyOSFglLDAKUJP7lkA9nh1Og",
      "include_colab_link": true
    },
    "kernelspec": {
      "name": "python3",
      "display_name": "Python 3"
    },
    "language_info": {
      "name": "python"
    }
  },
  "cells": [
    {
      "cell_type": "markdown",
      "metadata": {
        "id": "view-in-github",
        "colab_type": "text"
      },
      "source": [
        "<a href=\"https://colab.research.google.com/github/saikumartech/DS-Practice/blob/main/Regular_Expressions_Day_74%2C75ipynb.ipynb\" target=\"_parent\"><img src=\"https://colab.research.google.com/assets/colab-badge.svg\" alt=\"Open In Colab\"/></a>"
      ]
    },
    {
      "cell_type": "markdown",
      "source": [
        "#Advanced Patterns"
      ],
      "metadata": {
        "id": "of5ZVf7A7NgN"
      }
    },
    {
      "cell_type": "code",
      "source": [
        "import re\n",
        "match = re.search(r'\\d\\s*\\d\\s*\\d', 'xx1 2   3xxx')\n",
        "\n",
        "if match:\n",
        "  print(match.group())\n",
        "else:\n",
        "  print(\"NF\")"
      ],
      "metadata": {
        "colab": {
          "base_uri": "https://localhost:8080/"
        },
        "id": "mbiYAaTJ7Q7B",
        "outputId": "feb0bce1-6a5f-4f88-b7ca-a3fc10bce036"
      },
      "execution_count": 7,
      "outputs": [
        {
          "output_type": "stream",
          "name": "stdout",
          "text": [
            "1 2   3\n"
          ]
        }
      ]
    },
    {
      "cell_type": "code",
      "source": [
        "result = re.sub(r'pi+', '0', 'piiig')\n",
        "result"
      ],
      "metadata": {
        "colab": {
          "base_uri": "https://localhost:8080/",
          "height": 35
        },
        "id": "Pie5t-cxCkCv",
        "outputId": "58276001-fa3b-4e82-a99a-c75690cad940"
      },
      "execution_count": 8,
      "outputs": [
        {
          "output_type": "execute_result",
          "data": {
            "text/plain": [
              "'0g'"
            ],
            "application/vnd.google.colaboratory.intrinsic+json": {
              "type": "string"
            }
          },
          "metadata": {},
          "execution_count": 8
        }
      ]
    },
    {
      "cell_type": "code",
      "source": [
        "result = re.findall(r'i+', 'piiigiiii')\n",
        "result"
      ],
      "metadata": {
        "colab": {
          "base_uri": "https://localhost:8080/"
        },
        "id": "XKmHVuUFQC-w",
        "outputId": "5ca2ecde-2ada-458c-a788-fec8e4742503"
      },
      "execution_count": 9,
      "outputs": [
        {
          "output_type": "execute_result",
          "data": {
            "text/plain": [
              "['iii', 'iiii']"
            ]
          },
          "metadata": {},
          "execution_count": 9
        }
      ]
    },
    {
      "cell_type": "code",
      "source": [
        "result = re.findall(r'i*', 'piiigiiii')\n",
        "result"
      ],
      "metadata": {
        "colab": {
          "base_uri": "https://localhost:8080/"
        },
        "id": "R1zNWBcoQY7z",
        "outputId": "fa17bdb4-9862-4192-dcbe-e6c8bbabe513"
      },
      "execution_count": 10,
      "outputs": [
        {
          "output_type": "execute_result",
          "data": {
            "text/plain": [
              "['', 'iii', '', 'iiii', '']"
            ]
          },
          "metadata": {},
          "execution_count": 10
        }
      ]
    },
    {
      "cell_type": "code",
      "source": [
        "info = 'purple alice@google.com monkey dishwasher'\n",
        "\n",
        "match = re.search(r'\\w+@\\w+', info)\n",
        "\n",
        "if match:\n",
        "  print(match.group())\n",
        "else:\n",
        "  print(\"not found\")"
      ],
      "metadata": {
        "colab": {
          "base_uri": "https://localhost:8080/"
        },
        "id": "ZgjDJudHQ3hU",
        "outputId": "b2449a1f-9c06-4384-8b21-966e61b0ca9c"
      },
      "execution_count": 11,
      "outputs": [
        {
          "output_type": "stream",
          "name": "stdout",
          "text": [
            "alice@google\n"
          ]
        }
      ]
    },
    {
      "cell_type": "code",
      "source": [
        "results = re.findall(r'\\woo\\d?', 'foo123barzoo203gatebook')\n",
        "results"
      ],
      "metadata": {
        "colab": {
          "base_uri": "https://localhost:8080/"
        },
        "id": "VYnoX2wDSQKR",
        "outputId": "46f778f0-2779-48e5-e183-c4c3ec548850"
      },
      "execution_count": 13,
      "outputs": [
        {
          "output_type": "execute_result",
          "data": {
            "text/plain": [
              "['foo1', 'zoo2', 'boo']"
            ]
          },
          "metadata": {},
          "execution_count": 13
        }
      ]
    },
    {
      "cell_type": "code",
      "source": [
        "results = re.findall(r'\\woo\\d+', 'foo123barzoo203gatebook')\n",
        "results"
      ],
      "metadata": {
        "colab": {
          "base_uri": "https://localhost:8080/"
        },
        "id": "pFctOReMVJ3W",
        "outputId": "d9c4e4d9-9e44-47af-c425-48c17e11b1af"
      },
      "execution_count": 14,
      "outputs": [
        {
          "output_type": "execute_result",
          "data": {
            "text/plain": [
              "['foo123', 'zoo203']"
            ]
          },
          "metadata": {},
          "execution_count": 14
        }
      ]
    },
    {
      "cell_type": "code",
      "source": [
        "#[]"
      ],
      "metadata": {
        "id": "hWCDN4HSVRJi"
      },
      "execution_count": 15,
      "outputs": []
    },
    {
      "cell_type": "code",
      "source": [
        "info = 'purple alice@google.com monkey dishwasher saikumarakasapu@gmail.com adminn@yahoo.com'\n",
        "\n",
        "match = re.findall(r'\\S+@\\S+', info)\n",
        "match"
      ],
      "metadata": {
        "colab": {
          "base_uri": "https://localhost:8080/"
        },
        "id": "dO5xIJYVV_ZP",
        "outputId": "c5d7e13f-93bc-4371-b473-508f8eb1a557"
      },
      "execution_count": 21,
      "outputs": [
        {
          "output_type": "execute_result",
          "data": {
            "text/plain": [
              "['alice@google.com', 'saikumarakasapu@gmail.com', 'adminn@yahoo.com']"
            ]
          },
          "metadata": {},
          "execution_count": 21
        }
      ]
    },
    {
      "cell_type": "code",
      "source": [
        "#{}"
      ],
      "metadata": {
        "id": "P3GESJxIZvHC"
      },
      "execution_count": 22,
      "outputs": []
    },
    {
      "cell_type": "code",
      "source": [
        "results = re.findall(r'A{3}', 'aaaAAaaAAAAA')\n",
        "results"
      ],
      "metadata": {
        "colab": {
          "base_uri": "https://localhost:8080/"
        },
        "id": "q71QZMQ8c0NJ",
        "outputId": "9de4483b-cbb9-4b31-f6d5-ccd372c3ee75"
      },
      "execution_count": 23,
      "outputs": [
        {
          "output_type": "execute_result",
          "data": {
            "text/plain": [
              "['AAA']"
            ]
          },
          "metadata": {},
          "execution_count": 23
        }
      ]
    },
    {
      "cell_type": "code",
      "source": [
        "results = re.findall(r'\\w\\d{5}', 'bhdgdd26537386abfyfhu')\n",
        "results"
      ],
      "metadata": {
        "colab": {
          "base_uri": "https://localhost:8080/"
        },
        "id": "0q9fLVOReS4c",
        "outputId": "1bd428af-c64f-4f84-ef00-7081cff32e53"
      },
      "execution_count": 24,
      "outputs": [
        {
          "output_type": "execute_result",
          "data": {
            "text/plain": [
              "['d26537']"
            ]
          },
          "metadata": {},
          "execution_count": 24
        }
      ]
    },
    {
      "cell_type": "code",
      "source": [
        "results = re.findall(r'A{1,5}', 'aaaAAaaAAAAAA')\n",
        "results"
      ],
      "metadata": {
        "colab": {
          "base_uri": "https://localhost:8080/"
        },
        "id": "jS9Vew-nfDcY",
        "outputId": "ae2c5223-2e67-495d-8985-803910d63f0d"
      },
      "execution_count": 26,
      "outputs": [
        {
          "output_type": "execute_result",
          "data": {
            "text/plain": [
              "['AA', 'AAAAA', 'A']"
            ]
          },
          "metadata": {},
          "execution_count": 26
        }
      ]
    },
    {
      "cell_type": "code",
      "source": [
        "results = re.findall(r'A{1,5}?', 'aaaAAaaAAAAAA')\n",
        "results"
      ],
      "metadata": {
        "colab": {
          "base_uri": "https://localhost:8080/"
        },
        "id": "XDWzqH1OhI5W",
        "outputId": "7c61ad09-19e8-4d61-8fbc-17d9fdd012f1"
      },
      "execution_count": 27,
      "outputs": [
        {
          "output_type": "execute_result",
          "data": {
            "text/plain": [
              "['A', 'A', 'A', 'A', 'A', 'A', 'A', 'A']"
            ]
          },
          "metadata": {},
          "execution_count": 27
        }
      ]
    },
    {
      "cell_type": "code",
      "source": [],
      "metadata": {
        "id": "3ZYw32R_ht0F"
      },
      "execution_count": null,
      "outputs": []
    }
  ]
}