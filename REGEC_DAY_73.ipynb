{
  "nbformat": 4,
  "nbformat_minor": 0,
  "metadata": {
    "colab": {
      "provenance": [],
      "authorship_tag": "ABX9TyPw31szEDNWS/zUFDT+PkhK",
      "include_colab_link": true
    },
    "kernelspec": {
      "name": "python3",
      "display_name": "Python 3"
    },
    "language_info": {
      "name": "python"
    }
  },
  "cells": [
    {
      "cell_type": "markdown",
      "metadata": {
        "id": "view-in-github",
        "colab_type": "text"
      },
      "source": [
        "<a href=\"https://colab.research.google.com/github/saikumartech/DS-Practice/blob/main/REGEC_DAY_73.ipynb\" target=\"_parent\"><img src=\"https://colab.research.google.com/assets/colab-badge.svg\" alt=\"Open In Colab\"/></a>"
      ]
    },
    {
      "cell_type": "markdown",
      "source": [
        "\\s - \\n\\t\\r\\f"
      ],
      "metadata": {
        "id": "4vuHtoHhLomZ"
      }
    },
    {
      "cell_type": "code",
      "source": [
        "names = \"convolutional neural networks RNN\\ncnn\\tganesh\""
      ],
      "metadata": {
        "id": "-54WtD7FLpWX"
      },
      "execution_count": 15,
      "outputs": []
    },
    {
      "cell_type": "code",
      "source": [
        "import re\n",
        "re.split(r'\\s', names)"
      ],
      "metadata": {
        "colab": {
          "base_uri": "https://localhost:8080/"
        },
        "id": "0sDAIOkQL8X-",
        "outputId": "0f57f10d-1a64-48fb-92c5-74745e91e98b"
      },
      "execution_count": 16,
      "outputs": [
        {
          "output_type": "execute_result",
          "data": {
            "text/plain": [
              "['convolutional', 'neural', 'networks', 'RNN', 'cnn', 'ganesh']"
            ]
          },
          "metadata": {},
          "execution_count": 16
        }
      ]
    },
    {
      "cell_type": "code",
      "source": [
        "result = re.sub(r'\\s', '+', names)\n",
        "result"
      ],
      "metadata": {
        "colab": {
          "base_uri": "https://localhost:8080/",
          "height": 35
        },
        "id": "vfTuQXpMMMx6",
        "outputId": "fca0232f-a0f1-4905-c24a-e33ba94eba73"
      },
      "execution_count": 17,
      "outputs": [
        {
          "output_type": "execute_result",
          "data": {
            "text/plain": [
              "'convolutional+neural+networks+RNN+cnn+ganesh'"
            ],
            "application/vnd.google.colaboratory.intrinsic+json": {
              "type": "string"
            }
          },
          "metadata": {},
          "execution_count": 17
        }
      ]
    },
    {
      "cell_type": "markdown",
      "source": [
        "\\S - SINGLE non white space character"
      ],
      "metadata": {
        "id": "-Q5et6fXPXb3"
      }
    },
    {
      "cell_type": "code",
      "source": [
        "names = \"convolutional neural networks RNN\\ncnn\\tganesh\""
      ],
      "metadata": {
        "id": "cHdcyYqZPdeK"
      },
      "execution_count": 21,
      "outputs": []
    },
    {
      "cell_type": "code",
      "source": [
        "result = re.sub(r'\\S', '-', names)"
      ],
      "metadata": {
        "id": "890v2szgPfAm"
      },
      "execution_count": 22,
      "outputs": []
    },
    {
      "cell_type": "code",
      "source": [
        "result"
      ],
      "metadata": {
        "colab": {
          "base_uri": "https://localhost:8080/",
          "height": 35
        },
        "id": "TCsQe684PrKR",
        "outputId": "4559e7e8-c1f9-4c81-f871-0fcf7d080464"
      },
      "execution_count": 23,
      "outputs": [
        {
          "output_type": "execute_result",
          "data": {
            "text/plain": [
              "'------------- ------ -------- ---\\n---\\t------'"
            ],
            "application/vnd.google.colaboratory.intrinsic+json": {
              "type": "string"
            }
          },
          "metadata": {},
          "execution_count": 23
        }
      ]
    },
    {
      "cell_type": "markdown",
      "source": [
        "\\d"
      ],
      "metadata": {
        "id": "ni1vAt4oQOAD"
      }
    },
    {
      "cell_type": "code",
      "source": [
        "result = re.findall(r'\\d\\d', 'p1234567g')"
      ],
      "metadata": {
        "id": "v_tWfOTfQOtW"
      },
      "execution_count": 26,
      "outputs": []
    },
    {
      "cell_type": "code",
      "source": [
        "result"
      ],
      "metadata": {
        "colab": {
          "base_uri": "https://localhost:8080/"
        },
        "id": "laNmRWtVTbhq",
        "outputId": "24afda59-29de-4ade-f7cb-5f36773ee295"
      },
      "execution_count": 27,
      "outputs": [
        {
          "output_type": "execute_result",
          "data": {
            "text/plain": [
              "['12', '34', '56']"
            ]
          },
          "metadata": {},
          "execution_count": 27
        }
      ]
    },
    {
      "cell_type": "markdown",
      "source": [
        "\\D"
      ],
      "metadata": {
        "id": "p26z8TqcThHL"
      }
    },
    {
      "cell_type": "code",
      "source": [
        "result = re.findall(r'\\Dg', \"2g spectrum, after 3g, kg after 3g, @g\")"
      ],
      "metadata": {
        "id": "9V6AnGYkTrOd"
      },
      "execution_count": 30,
      "outputs": []
    },
    {
      "cell_type": "code",
      "source": [
        "result"
      ],
      "metadata": {
        "colab": {
          "base_uri": "https://localhost:8080/"
        },
        "id": "v9VUe3HfT8xG",
        "outputId": "bd0d3112-986a-47d1-ff8a-7983009bb904"
      },
      "execution_count": 31,
      "outputs": [
        {
          "output_type": "execute_result",
          "data": {
            "text/plain": [
              "['kg', '@g']"
            ]
          },
          "metadata": {},
          "execution_count": 31
        }
      ]
    },
    {
      "cell_type": "code",
      "source": [],
      "metadata": {
        "id": "i4UaMzU_WhDY"
      },
      "execution_count": null,
      "outputs": []
    }
  ]
}